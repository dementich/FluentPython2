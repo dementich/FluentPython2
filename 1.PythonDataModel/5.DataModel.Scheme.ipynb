{
 "cells": [
  {
   "cell_type": "code",
   "execution_count": 1,
   "id": "ced7a330",
   "metadata": {},
   "outputs": [],
   "source": [
    "import math\n",
    "import operator as op\n",
    "from collections import ChainMap\n",
    "from collections.abc import MutableMapping, Iterator\n",
    "from itertools import chain\n",
    "from typing import Any, TypeAlias"
   ]
  },
  {
   "cell_type": "code",
   "execution_count": 2,
   "id": "6e51ead9",
   "metadata": {},
   "outputs": [],
   "source": [
    "Symbol: TypeAlias = str\n",
    "Atom: TypeAlias = float | int | Symbol\n",
    "Expression: TypeAlias = Atom | list\n",
    "Environment: TypeAlias = MutableMapping[Symbol, object]"
   ]
  },
  {
   "cell_type": "code",
   "execution_count": 4,
   "id": "3d60d4a1",
   "metadata": {},
   "outputs": [],
   "source": [
    "dic1 = { 'a' : 1, 'b' : 2 }\n",
    "dic2 = { 'b' : 3, 'c' : 4 }\n",
    "\n",
    "chain = ChainMap(dic1, dic2)"
   ]
  },
  {
   "cell_type": "code",
   "execution_count": 6,
   "id": "7e347904",
   "metadata": {},
   "outputs": [
    {
     "data": {
      "text/plain": [
       "1"
      ]
     },
     "execution_count": 6,
     "metadata": {},
     "output_type": "execute_result"
    }
   ],
   "source": [
    "chain['a']"
   ]
  }
 ],
 "metadata": {
  "kernelspec": {
   "display_name": "Python 3 (ipykernel)",
   "language": "python",
   "name": "python3"
  },
  "language_info": {
   "codemirror_mode": {
    "name": "ipython",
    "version": 3
   },
   "file_extension": ".py",
   "mimetype": "text/x-python",
   "name": "python",
   "nbconvert_exporter": "python",
   "pygments_lexer": "ipython3",
   "version": "3.10.2"
  }
 },
 "nbformat": 4,
 "nbformat_minor": 5
}
