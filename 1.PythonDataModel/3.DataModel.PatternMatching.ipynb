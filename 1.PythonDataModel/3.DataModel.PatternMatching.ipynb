{
 "cells": [
  {
   "cell_type": "markdown",
   "id": "d8732f16",
   "metadata": {},
   "source": [
    "# Распознавание шаблонов\n",
    "\n",
    "Имеются следующие данные по координатам городов и площади их метрополитена:\n",
    "\n",
    "```python\n",
    "('Tokyo', 'JP', 36.933, (35.689722, 139.691667)),\n",
    "('Delhi NCR', 'IN', 21.935, (28.613889, 77.208889)),\n",
    "('Mexico City', 'MX', 20.142, (19.433333, -99.133333)),\n",
    "('New York-Newark', 'US', 20.104, (40.808611, -74.020386)),\n",
    "('São Paulo', 'BR', 19.649, (-23.547778, -46.635833)),\n",
    "```\n",
    "\n",
    "Требуется вывести название города, его широту и долготу для всех городов западного полушария"
   ]
  },
  {
   "cell_type": "code",
   "execution_count": 1,
   "id": "645fd420",
   "metadata": {},
   "outputs": [],
   "source": [
    "cities = [\n",
    "    ('Tokyo', 'JP', 36.933, (35.689722, 139.691667)),\n",
    "    ('Delhi NCR', 'IN', 21.935, (28.613889, 77.208889)),\n",
    "    ('Mexico City', 'MX', 20.142, (19.433333, -99.133333)),\n",
    "    ('New York-Newark', 'US', 20.104, (40.808611, -74.020386)),\n",
    "    ('São Paulo', 'BR', 19.649, (-23.547778, -46.635833)),\n",
    "]"
   ]
  },
  {
   "cell_type": "code",
   "execution_count": 2,
   "id": "817c9418",
   "metadata": {},
   "outputs": [
    {
     "name": "stdout",
     "output_type": "stream",
     "text": [
      "Mexico City: (19.433333;-99.133333)\n",
      "New York-Newark: (40.808611;-74.020386)\n",
      "São Paulo: (-23.547778;-46.635833)\n"
     ]
    }
   ],
   "source": [
    "for city in cities:\n",
    "    match city:\n",
    "        case(name, _, _, (lat, lon)) if lon <= 0:\n",
    "            print(f'{name}: ({lat};{lon})')"
   ]
  }
 ],
 "metadata": {
  "kernelspec": {
   "display_name": "Python 3 (ipykernel)",
   "language": "python",
   "name": "python3"
  },
  "language_info": {
   "codemirror_mode": {
    "name": "ipython",
    "version": 3
   },
   "file_extension": ".py",
   "mimetype": "text/x-python",
   "name": "python",
   "nbconvert_exporter": "python",
   "pygments_lexer": "ipython3",
   "version": "3.10.2"
  }
 },
 "nbformat": 4,
 "nbformat_minor": 5
}
