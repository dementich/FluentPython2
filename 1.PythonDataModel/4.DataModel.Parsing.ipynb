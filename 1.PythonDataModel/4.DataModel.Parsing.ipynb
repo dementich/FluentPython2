{
 "cells": [
  {
   "cell_type": "markdown",
   "id": "5dc1aad0",
   "metadata": {},
   "source": [
    "# Парсер\n",
    "\n",
    "Сначала строим абстрактное синтаксическое дерево:"
   ]
  },
  {
   "cell_type": "code",
   "execution_count": 1,
   "id": "7f79dc0d",
   "metadata": {},
   "outputs": [],
   "source": [
    "import re\n",
    "\n",
    "def get_flat_list(code):\n",
    "    lparen = r'\\('\n",
    "    rparen = r'\\)'\n",
    "    number = r'\\d+(?:\\.\\d+)?'\n",
    "    arith = r'\\/\\/|=|\\*|\\/|\\+|\\-'\n",
    "    ident = r'[a-zA-Z_]+\\d*'    \n",
    "    tokens = '|'.join([lparen, rparen, number, arith, ident])\n",
    "    return re.findall(tokens, code)\n",
    "\n",
    "def parse_item(item):\n",
    "    if re.match('^\\d+\\.\\d+$', item):\n",
    "        return float(item)\n",
    "    elif re.match('^\\d+$', item):\n",
    "        return int(item)\n",
    "    else:\n",
    "        return item\n",
    "\n",
    "def get_hier_list(flat_list, start=0):\n",
    "    result = []\n",
    "    i = start + 1\n",
    "    while (flat_list[i] != ')'):\n",
    "        if (flat_list[i] == '('):\n",
    "            lst, i = get_hier_list(flat_list, i)\n",
    "            result += [lst]\n",
    "        else:\n",
    "            result += [parse_item(flat_list[i])]\n",
    "            i += 1\n",
    "    return result, i + 1\n",
    "\n",
    "def parse(code):\n",
    "    return get_hier_list(get_flat_list(code))[0]"
   ]
  },
  {
   "cell_type": "code",
   "execution_count": 2,
   "id": "e56f4b69",
   "metadata": {},
   "outputs": [
    {
     "data": {
      "text/plain": [
       "['gcd', 18, 45]"
      ]
     },
     "execution_count": 2,
     "metadata": {},
     "output_type": "execute_result"
    }
   ],
   "source": [
    "parse('(gcd 18 45)')"
   ]
  },
  {
   "cell_type": "code",
   "execution_count": 3,
   "id": "d1ca77a6",
   "metadata": {},
   "outputs": [
    {
     "data": {
      "text/plain": [
       "['define', 'double', ['lambda', ['n'], ['*', 'n', 2]]]"
      ]
     },
     "execution_count": 3,
     "metadata": {},
     "output_type": "execute_result"
    }
   ],
   "source": [
    "parse('(define double (lambda (n)(* n 2)))')"
   ]
  },
  {
   "cell_type": "code",
   "execution_count": 4,
   "id": "cee5f573",
   "metadata": {},
   "outputs": [
    {
     "data": {
      "text/plain": [
       "['+', 'x', 13]"
      ]
     },
     "execution_count": 4,
     "metadata": {},
     "output_type": "execute_result"
    }
   ],
   "source": [
    "parse('(+ x 13)')"
   ]
  },
  {
   "cell_type": "code",
   "execution_count": 5,
   "id": "305ad5b3",
   "metadata": {},
   "outputs": [
    {
     "data": {
      "text/plain": [
       "['gcd', 'x', 13]"
      ]
     },
     "execution_count": 5,
     "metadata": {},
     "output_type": "execute_result"
    }
   ],
   "source": [
    "parse('(gcd x 13)')"
   ]
  },
  {
   "cell_type": "code",
   "execution_count": 6,
   "id": "29cfd815",
   "metadata": {},
   "outputs": [
    {
     "data": {
      "text/plain": [
       "['define', 'x', 13]"
      ]
     },
     "execution_count": 6,
     "metadata": {},
     "output_type": "execute_result"
    }
   ],
   "source": [
    "parse('(define x 13)')"
   ]
  },
  {
   "cell_type": "code",
   "execution_count": 7,
   "id": "ba1ca162",
   "metadata": {},
   "outputs": [
    {
     "data": {
      "text/plain": [
       "['define', ['mod', 'm', 'n'], ['-', 'm', ['*', 'n', ['//', 'm', 'n']]]]"
      ]
     },
     "execution_count": 7,
     "metadata": {},
     "output_type": "execute_result"
    }
   ],
   "source": [
    "parse('''(define (mod m n)\n",
    "    (- m (* n (// m n))))''')"
   ]
  },
  {
   "cell_type": "code",
   "execution_count": 8,
   "id": "a5cc1a94",
   "metadata": {},
   "outputs": [
    {
     "data": {
      "text/plain": [
       "['define',\n",
       " ['gcd', 'm', 'n'],\n",
       " ['if', ['=', 'n', 0], 'm', ['gcd', 'n', ['mod', 'm', 'n']]]]"
      ]
     },
     "execution_count": 8,
     "metadata": {},
     "output_type": "execute_result"
    }
   ],
   "source": [
    "parse('''(define (gcd m n)\n",
    "    (if (= n 0)\n",
    "        m\n",
    "        (gcd n (mod m n))))''')"
   ]
  }
 ],
 "metadata": {
  "kernelspec": {
   "display_name": "Python 3 (ipykernel)",
   "language": "python",
   "name": "python3"
  },
  "language_info": {
   "codemirror_mode": {
    "name": "ipython",
    "version": 3
   },
   "file_extension": ".py",
   "mimetype": "text/x-python",
   "name": "python",
   "nbconvert_exporter": "python",
   "pygments_lexer": "ipython3",
   "version": "3.10.2"
  }
 },
 "nbformat": 4,
 "nbformat_minor": 5
}
