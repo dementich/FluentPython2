{
 "cells": [
  {
   "cell_type": "markdown",
   "id": "38aca4da",
   "metadata": {},
   "source": [
    "# Двумерный вектор\n",
    "\n",
    "Требуется создать класс `Vector`, содержащий поля `x` и `y` и реализующий следующие методы:\n",
    "\n",
    "* `__repr__` - показать код, создающий данный экземпляр\n",
    "* `__bool__` - показать, отличаются ли элементы вектора от нуля\n",
    "* `__abs__` - показать длину данного вектора  \n",
    "* `__add__` - сложить этот вектор с другим\n",
    "* `__mul__` - умножить этот вектор на число\n",
    "* `__rmul__` - умножить число на этот вектор  "
   ]
  },
  {
   "cell_type": "code",
   "execution_count": 1,
   "id": "f0ba9885",
   "metadata": {},
   "outputs": [],
   "source": [
    "import math\n",
    "\n",
    "class Vector:\n",
    "    def __init__(self, x, y):\n",
    "        self.x, self.y = x, y\n",
    "    \n",
    "    def __repr__(self):\n",
    "        return f'Vector({self.x}, {self.y})'\n",
    "    \n",
    "    def __bool__(self):\n",
    "        return bool(self.x or self.y)\n",
    "    \n",
    "    def __abs__(self):\n",
    "        return math.hypot(self.x, self.y)\n",
    "    \n",
    "    def __add__(self, another):\n",
    "        return Vector(self.x + another.x, self.y + another.y)\n",
    "    \n",
    "    def __mul__(self, m):\n",
    "        return Vector(self.x * m, self.y * m)\n",
    "    \n",
    "    def __rmul__(self, m):\n",
    "        return self.__mul__(m)"
   ]
  },
  {
   "cell_type": "code",
   "execution_count": 2,
   "id": "9b70b2cd",
   "metadata": {},
   "outputs": [
    {
     "name": "stdout",
     "output_type": "stream",
     "text": [
      "Vector(1, 2)\n",
      "True\n",
      "Vector(3, 4)\n",
      "5.0\n",
      "Vector(6, 8)\n",
      "Vector(6, 8)\n"
     ]
    }
   ],
   "source": [
    "v1 = Vector(1, 2)\n",
    "print(v1)\n",
    "print(bool(v1))\n",
    "v2 = Vector(2, 2)\n",
    "v3 = v1 + v2\n",
    "print(v3)\n",
    "print(abs(v3))\n",
    "print(v3 * 2)\n",
    "print(2 * v3)"
   ]
  }
 ],
 "metadata": {
  "kernelspec": {
   "display_name": "Python 3 (ipykernel)",
   "language": "python",
   "name": "python3"
  },
  "language_info": {
   "codemirror_mode": {
    "name": "ipython",
    "version": 3
   },
   "file_extension": ".py",
   "mimetype": "text/x-python",
   "name": "python",
   "nbconvert_exporter": "python",
   "pygments_lexer": "ipython3",
   "version": "3.10.2"
  }
 },
 "nbformat": 4,
 "nbformat_minor": 5
}
