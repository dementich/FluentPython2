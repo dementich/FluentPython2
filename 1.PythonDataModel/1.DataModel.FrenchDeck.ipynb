{
 "cells": [
  {
   "cell_type": "markdown",
   "id": "07201427",
   "metadata": {},
   "source": [
    "# Колода карт\n",
    "\n",
    "Требуется создать:\n",
    "1.  Именованный кортеж `Card`, содержащий атрибуты `rank` (значение) и `suit` (масть).  \n",
    "2.  Класс `FrenchDeck`, содержащий карты значений 2 - 10 и J, Q, K, A, относящиеся к мастям spades, diamonds, clubs и hearts.\n",
    "    Данный класс в методе `__init__` должен инициализировать список всех карт, должен реализовывать метод `__len__()`,     возвращающий длину колоды и должен реализовывать метод `__getitem__()`, возвращающий карту по ее позиции в колоде. "
   ]
  },
  {
   "cell_type": "markdown",
   "id": "b8504d3d",
   "metadata": {},
   "source": [
    "Делаем карту:"
   ]
  },
  {
   "cell_type": "code",
   "execution_count": 1,
   "id": "7b44bfc4",
   "metadata": {},
   "outputs": [],
   "source": [
    "from collections import namedtuple\n",
    "\n",
    "Card = namedtuple('Card', ['rank', 'suit'])"
   ]
  },
  {
   "cell_type": "code",
   "execution_count": 2,
   "id": "cde9937d",
   "metadata": {},
   "outputs": [],
   "source": [
    "c1 = Card('10', 'spades')"
   ]
  },
  {
   "cell_type": "code",
   "execution_count": 3,
   "id": "de67e06a",
   "metadata": {},
   "outputs": [
    {
     "data": {
      "text/plain": [
       "Card(rank='10', suit='spades')"
      ]
     },
     "execution_count": 3,
     "metadata": {},
     "output_type": "execute_result"
    }
   ],
   "source": [
    "c1"
   ]
  },
  {
   "cell_type": "markdown",
   "id": "20e21014",
   "metadata": {},
   "source": [
    "Делаем колоду:"
   ]
  },
  {
   "cell_type": "code",
   "execution_count": 44,
   "id": "d6ccbceb",
   "metadata": {},
   "outputs": [],
   "source": [
    "class FrenchDeck:\n",
    "    \n",
    "    ranks = [str(rank) for rank in range(2, 11 + 1)] + list('JQKA')\n",
    "    suits = ['clubs', 'diamonds', 'hearts', 'spades']\n",
    "    \n",
    "    def __init__(self):\n",
    "        self._cards = [Card(rank, suit) for rank in ranks for suit in suits]\n",
    "        \n",
    "    def __len__(self):\n",
    "        return len(self._cards)\n",
    "    \n",
    "    def __getitem__(self, position):\n",
    "        return self._cards[position]"
   ]
  },
  {
   "cell_type": "markdown",
   "id": "1e047cdb",
   "metadata": {},
   "source": [
    "В итоге видно, что мы кроме прочего можем слайсить карты из колоды, выбирать случайную карту, находить карту и пробегать колоду в цикле:"
   ]
  },
  {
   "cell_type": "code",
   "execution_count": 40,
   "id": "6057b5ba",
   "metadata": {},
   "outputs": [
    {
     "name": "stdout",
     "output_type": "stream",
     "text": [
      "Card(rank='2', suit='spades')\n",
      "Card(rank='A', suit='hearts')\n",
      "length = 56\n",
      "random card: Card(rank='8', suit='clubs')\n",
      "is card Card(rank='10', suit='clubs') in deck: True\n",
      "is card Card(rank='10', suit='beasts') in deck: False\n",
      "i = 0, card = Card(rank='2', suit='spades')\n",
      "i = 1, card = Card(rank='2', suit='diamonds')\n",
      "i = 2, card = Card(rank='2', suit='clubs')\n",
      "i = 3, card = Card(rank='2', suit='hearts')\n",
      "i = 4, card = Card(rank='3', suit='spades')\n",
      "i = 5, card = Card(rank='3', suit='diamonds')\n",
      "i = 6, card = Card(rank='3', suit='clubs')\n",
      "i = 7, card = Card(rank='3', suit='hearts')\n",
      "i = 8, card = Card(rank='4', suit='spades')\n",
      "i = 9, card = Card(rank='4', suit='diamonds')\n"
     ]
    }
   ],
   "source": [
    "d = FrenchDeck()\n",
    "print(d[0])\n",
    "print(d[-1])\n",
    "print(f'length = {len(d)}')\n",
    "from random import choice\n",
    "print(f'random card: {choice(d)}')\n",
    "c1 = Card(\"10\", \"clubs\")\n",
    "c2 = Card(\"10\", \"beasts\")\n",
    "print(f'is card {c1} in deck: {c1 in d}')\n",
    "print(f'is card {c2} in deck: {c2 in d}')\n",
    "for i, card in enumerate(d[:10]):\n",
    "    print(f'i = {i}, card = {card}')"
   ]
  },
  {
   "cell_type": "markdown",
   "id": "33e49e04",
   "metadata": {},
   "source": [
    "А теперь научимся сортировать нашу колоду. Для этого надо создать функцию, принимающую на вход карту, и выдающую числовой идентификатор, по которому она будет сортироваться."
   ]
  },
  {
   "cell_type": "code",
   "execution_count": 47,
   "id": "b730df8a",
   "metadata": {},
   "outputs": [],
   "source": [
    "def sorter(card):\n",
    "    suit_order = FrenchDeck.suits.index(card.suit)\n",
    "    rank_order = FrenchDeck.ranks.index(card.rank)\n",
    "    return suit_order * 100 + rank_order"
   ]
  },
  {
   "cell_type": "code",
   "execution_count": 49,
   "id": "e6cf2cf7",
   "metadata": {},
   "outputs": [
    {
     "name": "stdout",
     "output_type": "stream",
     "text": [
      "Card(rank='2', suit='clubs')\n",
      "Card(rank='3', suit='clubs')\n",
      "Card(rank='4', suit='clubs')\n",
      "Card(rank='5', suit='clubs')\n",
      "Card(rank='6', suit='clubs')\n",
      "Card(rank='7', suit='clubs')\n",
      "Card(rank='8', suit='clubs')\n",
      "Card(rank='9', suit='clubs')\n",
      "Card(rank='10', suit='clubs')\n",
      "Card(rank='11', suit='clubs')\n",
      "Card(rank='J', suit='clubs')\n",
      "Card(rank='Q', suit='clubs')\n",
      "Card(rank='K', suit='clubs')\n",
      "Card(rank='A', suit='clubs')\n",
      "Card(rank='2', suit='diamonds')\n",
      "Card(rank='3', suit='diamonds')\n",
      "Card(rank='4', suit='diamonds')\n",
      "Card(rank='5', suit='diamonds')\n",
      "Card(rank='6', suit='diamonds')\n",
      "Card(rank='7', suit='diamonds')\n"
     ]
    }
   ],
   "source": [
    "for c in sorted(d, key=sorter)[:20]:\n",
    "    print(c)"
   ]
  }
 ],
 "metadata": {
  "kernelspec": {
   "display_name": "Python 3 (ipykernel)",
   "language": "python",
   "name": "python3"
  },
  "language_info": {
   "codemirror_mode": {
    "name": "ipython",
    "version": 3
   },
   "file_extension": ".py",
   "mimetype": "text/x-python",
   "name": "python",
   "nbconvert_exporter": "python",
   "pygments_lexer": "ipython3",
   "version": "3.8.10"
  }
 },
 "nbformat": 4,
 "nbformat_minor": 5
}
